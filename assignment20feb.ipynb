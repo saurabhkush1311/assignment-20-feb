{
 "cells": [
  {
   "cell_type": "code",
   "execution_count": null,
   "id": "dfc4a59b-5717-4e75-8328-82a3505cea49",
   "metadata": {},
   "outputs": [],
   "source": [
    "#Question1:\n",
    "#Answer:\n",
    "\"\"\"The GET method is used to request data from a server.\n",
    "It retrieves information from the server and does not modify any data on the server.\n",
    "It is primarily used for fetching data, such as reading a web page, fetching search results, or retrieving specific resources.\n",
    "\n",
    "The POST method is used to submit data to be processed to a server.\n",
    "It is commonly used for actions that modify the server's state,\n",
    "such as creating a new resource, submitting a form, or updating data on the server.\n",
    "\"\"\""
   ]
  },
  {
   "cell_type": "code",
   "execution_count": null,
   "id": "0b74c1dc-6686-4d65-9ad5-4fc01bac928b",
   "metadata": {},
   "outputs": [],
   "source": [
    "#Question2:\n",
    "#Answer:\n",
    "\"\"\"\n",
    "\n",
    "In Flask, the request object is a built-in component that plays a crucial role in handling incoming HTTP requests\n",
    "from clients (such as web browsers, mobile apps, or other web services) and extracting data from those requests. \n",
    "The request object provides developers with a convenient way to access various components of an incoming request and retrieve data sent by the client\n",
    "\n",
    "Overall, the request object is a fundamental part of Flask that enables developers to interact with incoming HTTP requests effectively. \n",
    "It facilitates data extraction, manipulation, and handling, making it an essential component for building dynamic and interactive web applications with Flask.\n",
    "\n",
    "\"\"\""
   ]
  },
  {
   "cell_type": "code",
   "execution_count": null,
   "id": "d7a26669-0e43-469c-b0c2-949f141068a1",
   "metadata": {},
   "outputs": [],
   "source": [
    "#Question3:\n",
    "#Answer:\n",
    "\"\"\"the redirect() function is an essential tool in Flask for managing user navigation \n",
    "and enhancing the user experience by sending them to different URLs or pages based on application logic and conditions.\"\"\"\n",
    "\n",
    "from flask import Flask, redirect, url_for, request\n",
    "\n",
    "app = Flask(__name__)\n",
    "\n",
    "@app.route('/')\n",
    "def index():\n",
    "    return 'Welcome to the Home Page'\n",
    "\n",
    "@app.route('/login')\n",
    "def login():\n",
    "    return redirect(url_for('home'))  \n",
    "\n",
    "@app.route('/home')\n",
    "def home():\n",
    "    return 'Welcome to the User Home Page'\n",
    "\n",
    "if __name__ == '__main__':\n",
    "    app.run()\n"
   ]
  },
  {
   "cell_type": "code",
   "execution_count": null,
   "id": "8189b56d-9fc3-4f94-b775-82fae8a6f533",
   "metadata": {},
   "outputs": [],
   "source": [
    "#Question4:\n",
    "#Answer:\n",
    "\"\"\"\n",
    "templates in Flask are used to separate the presentation layer (HTML) from the application logic\n",
    "The render_template() function is used to render these templates with dynamic data, allowing developers\n",
    "to create dynamic web pages that respond to different data or conditions.\n",
    "\"\"\"\n",
    "\n",
    "from flask import Flask, render_template\n",
    "\n",
    "app = Flask(__name__)\n",
    "\n",
    "@app.route('/')\n",
    "def index():\n",
    "    user = \"John Doe\"\n",
    "    return render_template('index.html', title='Welcome', user=user)\n"
   ]
  },
  {
   "cell_type": "code",
   "execution_count": null,
   "id": "7cd091b1-ade6-4734-aafd-8e258758cc93",
   "metadata": {},
   "outputs": [],
   "source": [
    "#Question5:\n",
    "#Answer:\n",
    "from flask import Flask,request,render_template,jsonify\n",
    "\n",
    "app = Flask(__name__)\n",
    "\n",
    "\n",
    "\n",
    "@app.route(\"/\")\n",
    "def index():\n",
    "    return render_template(\"index.html\")\n",
    "\n",
    "data = [\n",
    "    {\"name\": \"John\", \"age\": 30},\n",
    "    {\"name\": \"Jane\", \"age\": 25},\n",
    "    {\"name\": \"Tom\", \"age\": 28}\n",
    "]\n",
    "\n",
    "@app.route(\"/api/data\" , methods = ['GET'])\n",
    "def get_data():\n",
    "    return jsonify(data)\n",
    "\n",
    "if __name__==\"__main__\":\n",
    "    app.run(host=\"0.0.0.0\")\n"
   ]
  }
 ],
 "metadata": {
  "kernelspec": {
   "display_name": "Python 3 (ipykernel)",
   "language": "python",
   "name": "python3"
  },
  "language_info": {
   "codemirror_mode": {
    "name": "ipython",
    "version": 3
   },
   "file_extension": ".py",
   "mimetype": "text/x-python",
   "name": "python",
   "nbconvert_exporter": "python",
   "pygments_lexer": "ipython3",
   "version": "3.10.6"
  }
 },
 "nbformat": 4,
 "nbformat_minor": 5
}
